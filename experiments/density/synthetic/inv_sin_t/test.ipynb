{
 "cells": [
  {
   "cell_type": "code",
   "execution_count": null,
   "metadata": {},
   "outputs": [],
   "source": [
    "%load_ext autoreload\n",
    "%autoreload 2\n",
    "\n",
    "import os\n",
    "import json\n",
    "from functools import reduce\n",
    "import numpy as np\n",
    "\n",
    "from conf import conf\n",
    "\n",
    "import tensorflow as tf\n",
    "tfk = tf.keras\n",
    "import tensorflow_probability as tfp\n",
    "tfd = tfp.distributions\n",
    "import tensorflow_datasets as tfds\n",
    "K=tfk.backend\n",
    "\n",
    "import plotly.graph_objs as go\n",
    "import plotly.express as px\n",
    "from plotly.offline import iplot\n",
    "\n",
    "from models.tensorflow.rnade import Rnade\n",
    "from models.tensorflow.rnade_deep import RnadeDeep\n",
    "from models.tensorflow.maf import MAF\n",
    "from models.tensorflow.mdn import MDN\n",
    "from models.tensorflow.monde import MONDE\n",
    "from models.tensorflow.monde_ar_made import MondeARMADE\n",
    "from data import registry\n",
    "from models.tensorflow.compute import get_device\n",
    "from utils import elapsed_timer\n",
    "import utils as nl_utils"
   ]
  },
  {
   "cell_type": "markdown",
   "metadata": {},
   "source": [
    "# Experiment setting"
   ]
  },
  {
   "cell_type": "code",
   "execution_count": null,
   "metadata": {},
   "outputs": [],
   "source": [
    "n_data=10000\n",
    "batch_size=128\n",
    "max_epochs=100000\n",
    "os.environ['CUDA_VISIBLE_DEVICES']=\"0\"\n",
    "device = get_device()"
   ]
  },
  {
   "cell_type": "markdown",
   "metadata": {},
   "source": [
    "# Load the data"
   ]
  },
  {
   "cell_type": "code",
   "execution_count": null,
   "metadata": {},
   "outputs": [],
   "source": [
    "conf.dir = '{ROOT}/density/synthetic/inv_sin_t'\n",
    "data_loader = registry.inv_sin_t()"
   ]
  },
  {
   "cell_type": "code",
   "execution_count": null,
   "metadata": {},
   "outputs": [],
   "source": [
    "px.scatter(x=data_loader.train_data[:,0],y=data_loader.train_data[:,1])"
   ]
  },
  {
   "cell_type": "code",
   "execution_count": null,
   "metadata": {},
   "outputs": [],
   "source": [
    "train_dataset = tf.data.Dataset.from_tensor_slices(\n",
    "        ((data_loader.train_y, data_loader.train_x), np.zeros((len(data_loader.train_y), 0), dtype=np.float32)))\n",
    "train_dataset = train_dataset.repeat(None)\n",
    "train_dataset = train_dataset.shuffle(buffer_size=len(data_loader.train_y))\n",
    "train_dataset = train_dataset.prefetch(3 * batch_size)\n",
    "train_dataset = train_dataset.batch(batch_size)\n",
    "\n",
    "val_dataset = tf.data.Dataset.from_tensor_slices(\n",
    "        ((data_loader.validation_y, data_loader.validation_x), np.zeros((len(data_loader.validation_y), 0), dtype=np.float32)))\n",
    "val_dataset = val_dataset.repeat(1)\n",
    "val_dataset = val_dataset.prefetch(len(data_loader.validation_y))\n",
    "val_dataset = val_dataset.batch(len(data_loader.validation_y))"
   ]
  },
  {
   "cell_type": "markdown",
   "metadata": {},
   "source": [
    "# Choose model to train"
   ]
  },
  {
   "cell_type": "code",
   "execution_count": null,
   "metadata": {},
   "outputs": [],
   "source": [
    "K.clear_session()\n",
    "with tf.device(device):\n",
    "#     model = Rnade(k_mix = 10, hidden_units=128, component_distribution=\"normal\")\n",
    "#     model = Rnade(k_mix = 10, hidden_units=128, component_distribution=\"laplace\")\n",
    "#     model = RnadeDeep(k_mix = 10, arch=[64,64], component_distribution=\"normal\") # 6,366\n",
    "#     model = RnadeDeep(k_mix = 10, arch=[64,64], component_distribution=\"laplace\") # 6,366\n",
    "#     model = MAF(num_bijectors=5, hidden_units=[32,32], covariate_hidden_units=[32,32], batch_norm=False) #5,188\n",
    "#     model = MDN(arch=[64,64], num_mixtures=10) # 6,238\n",
    "#     model = MONDE(cov_type=\"const_cov\", arch_hxy=[128,128,128], arch_x_transform=[], arch_cov_transform=None, hxy_x_size=64, covariance_learning_rate=None)\n",
    "    model = MondeARMADE(arch=[32,32,32], transform = 'sigm', x_transform_size=16) # 2,241\n",
    "    model.build([[None,1],[None,1]])\n",
    "model.summary()"
   ]
  },
  {
   "cell_type": "markdown",
   "metadata": {},
   "source": [
    "# Train the model"
   ]
  },
  {
   "cell_type": "code",
   "execution_count": null,
   "metadata": {},
   "outputs": [],
   "source": [
    "def loss_fn(_, log_prob):\n",
    "    return -tf.reduce_mean(log_prob)\n",
    "\n",
    "model.compile(optimizer=tfk.optimizers.Adam(learning_rate=1e-3), loss=loss_fn)\n",
    "\n",
    "os.makedirs('test', exist_ok=True)\n",
    "model.save_to_json('test/{}_best_model.json'.format(model.model_name))\n",
    "\n",
    "callbacks = []\n",
    "callbacks.append(tfk.callbacks.TerminateOnNaN())\n",
    "callbacks.append(tfk.callbacks.ModelCheckpoint('test/{}_best_model.h5'.format(model.model_name), \n",
    "                                               monitor='val_loss', mode='min', verbose=0, save_best_only=True, save_weights_only=True))\n",
    "callbacks.append(tfk.callbacks.History())\n",
    "callbacks.append(tfk.callbacks.EarlyStopping(monitor='loss', patience=30))\n",
    "\n",
    "steps_per_epoch = int(np.ceil(len(data_loader.train_y) / batch_size))\n",
    "with elapsed_timer(\"training\"):\n",
    "    history = model.fit(x=train_dataset, validation_data=val_dataset,verbose=0, epochs=max_epochs, steps_per_epoch=steps_per_epoch, callbacks=callbacks)\n",
    "\n",
    "px.line(x=history.epoch,y=history.history['val_loss'])"
   ]
  },
  {
   "cell_type": "markdown",
   "metadata": {},
   "source": [
    "# Load the best model"
   ]
  },
  {
   "cell_type": "code",
   "execution_count": null,
   "metadata": {},
   "outputs": [],
   "source": [
    "with tf.device(device):\n",
    "    model = nl_utils.load_model_and_params('test/{}_best_model'.format(model.model_name))"
   ]
  },
  {
   "cell_type": "markdown",
   "metadata": {},
   "source": [
    "# Show what model has learnt"
   ]
  },
  {
   "cell_type": "code",
   "execution_count": null,
   "metadata": {},
   "outputs": [],
   "source": [
    "y_maxes = np.array([2,2],np.float32)\n",
    "y_mins = np.array([-2,-2],np.float32)\n",
    "y1_grid=np.linspace(y_mins[0],y_maxes[0],100, dtype=np.float32)\n",
    "y2_grid=np.linspace(y_mins[1],y_maxes[1],100, dtype=np.float32)\n",
    "yy1,yy2 = np.meshgrid(y1_grid,y2_grid)\n",
    "\n",
    "prob = model.prob(tf.convert_to_tensor(yy2.reshape([-1,1])),tf.convert_to_tensor(yy1.reshape([-1,1])), training=False).numpy()\n",
    "\n",
    "fig = go.Figure(data =\n",
    "    go.Contour(\n",
    "        z=prob.reshape(y1_grid.size,y2_grid.size),\n",
    "        x=y1_grid,\n",
    "        y=y2_grid,        \n",
    "        contours_coloring='heatmap'\n",
    "    ))\n",
    "fig.show()"
   ]
  }
 ],
 "metadata": {
  "kernelspec": {
   "display_name": "Python [conda env:tensorflow_2_0] *",
   "language": "python",
   "name": "conda-env-tensorflow_2_0-py"
  },
  "language_info": {
   "codemirror_mode": {
    "name": "ipython",
    "version": 3
   },
   "file_extension": ".py",
   "mimetype": "text/x-python",
   "name": "python",
   "nbconvert_exporter": "python",
   "pygments_lexer": "ipython3",
   "version": "3.7.4"
  }
 },
 "nbformat": 4,
 "nbformat_minor": 4
}
