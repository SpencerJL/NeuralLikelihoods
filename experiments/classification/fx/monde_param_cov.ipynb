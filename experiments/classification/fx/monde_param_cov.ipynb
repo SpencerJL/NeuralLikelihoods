{
 "cells": [
  {
   "cell_type": "code",
   "execution_count": null,
   "metadata": {},
   "outputs": [],
   "source": [
    "%load_ext autoreload\n",
    "%autoreload 2\n",
    "from experiment.experiment import Experiment\n",
    "from models.tensorflow.monde import Monde\n",
    "from conf import conf\n",
    "from models.tensorflow.conf import tf_conf\n",
    "from experiment.hyper_param_opt import GridSearch\n",
    "from models.tensorflow.tf_simple_train_eval import TfSimpleTrainEvalModelFactory\n",
    "from skopt.space import Categorical\n",
    "from models.tensorflow.utils import get_eval_inputs,get_inputs\n",
    "from data.data_utils import DataLoader\n",
    "import tensorflow as tf\n",
    "import numpy as np\n",
    "import seaborn as sns\n",
    "import matplotlib.pyplot as plt\n",
    "%matplotlib inline\n",
    "from bokeh.palettes import Category10_5 as colors\n",
    "from bokeh.plotting import figure\n",
    "from bokeh.io import show, output_notebook\n",
    "import pandas as pd\n",
    "from functools import reduce\n",
    "from experiment.experiment import InMemoryCollector\n",
    "from copy import copy\n",
    "from sklearn.metrics import roc_curve,auc,precision_recall_curve,average_precision_score\n",
    "from sklearn.ensemble import RandomForestClassifier\n",
    "import os\n",
    "from sklearn.utils.fixes import signature\n",
    "from scipy import stats\n",
    "from itertools import combinations\n",
    "import multiprocessing"
   ]
  },
  {
   "cell_type": "code",
   "execution_count": null,
   "metadata": {},
   "outputs": [],
   "source": [
    "output_notebook()"
   ]
  },
  {
   "cell_type": "code",
   "execution_count": null,
   "metadata": {},
   "outputs": [],
   "source": [
    "exp = Experiment('classification/fx_3')\n",
    "conf.num_workers = 1\n",
    "conf.visible_device_list = [0]\n",
    "exp.load(model_name=\"Monde_param_cov\")"
   ]
  },
  {
   "cell_type": "code",
   "execution_count": null,
   "metadata": {},
   "outputs": [],
   "source": [
    "exp.best_model_params"
   ]
  },
  {
   "cell_type": "code",
   "execution_count": null,
   "metadata": {},
   "outputs": [],
   "source": [
    "exp.data_loader.figure_train();"
   ]
  },
  {
   "cell_type": "code",
   "execution_count": null,
   "metadata": {},
   "outputs": [],
   "source": [
    "y_95_percentile = np.percentile(exp.data_loader.train_y, 95,axis=0)"
   ]
  },
  {
   "cell_type": "code",
   "execution_count": null,
   "metadata": {},
   "outputs": [],
   "source": [
    "result_test = exp.predict_best_model({'x':exp.data_loader.test_x, 'y':(np.ones(exp.data_loader.test_y.shape)*y_95_percentile).astype(np.float32)}, InMemoryCollector())"
   ]
  },
  {
   "cell_type": "code",
   "execution_count": null,
   "metadata": {},
   "outputs": [],
   "source": [
    "quantiles = [stats.norm.ppf(cdf) for cdf in result_test['cdfs']]\n",
    "def compute_test_score(row):\n",
    "    return 1-stats.multivariate_normal.cdf(row[0], mean=[0]*exp.data_loader.test_y.shape[1], cov=result_test['cor'][row[1]])\n",
    "pool = multiprocessing.Pool()\n",
    "test_score = np.array(pool.map(compute_test_score, zip(np.concatenate(quantiles,axis=1),range(len(quantiles[0])))))"
   ]
  },
  {
   "cell_type": "code",
   "execution_count": null,
   "metadata": {},
   "outputs": [],
   "source": [
    "plt.figure(figsize=(15,10))\n",
    "for i in range(3):\n",
    "    plt.subplot(4,4, i+1)\n",
    "    sns.distplot(quantiles[i])\n",
    "#     sns.distplot(result_test['cdfs'][i])\n",
    "plt.show();"
   ]
  },
  {
   "cell_type": "code",
   "execution_count": null,
   "metadata": {},
   "outputs": [],
   "source": [
    "plt.figure(figsize=(14,14))\n",
    "for i,(x,y) in enumerate(combinations(range(3),2)):\n",
    "    plt.subplot(6,5, i+1)\n",
    "    sns.scatterplot(quantiles[x].ravel(),quantiles[y].ravel())\n",
    "plt.show();"
   ]
  },
  {
   "cell_type": "code",
   "execution_count": null,
   "metadata": {},
   "outputs": [],
   "source": [
    "true_label_test = np.any(exp.data_loader.test_y > y_95_percentile, axis=1)"
   ]
  },
  {
   "cell_type": "code",
   "execution_count": null,
   "metadata": {},
   "outputs": [],
   "source": [
    "fpr, tpr, thresholds = roc_curve(true_label_test, test_score)\n",
    "roc_auc = auc(fpr, tpr)"
   ]
  },
  {
   "cell_type": "code",
   "execution_count": null,
   "metadata": {},
   "outputs": [],
   "source": [
    "plt.figure()\n",
    "lw = 2\n",
    "plt.plot(fpr, tpr, color='darkorange', lw=lw, label='ROC curve')\n",
    "plt.plot([0, 1], [0, 1], color='navy', lw=lw, linestyle='--')\n",
    "plt.xlim([0.0, 1.0])\n",
    "plt.ylim([0.0, 1.05])\n",
    "plt.xlabel('False Positive Rate')\n",
    "plt.ylabel('True Positive Rate')\n",
    "plt.title('Receiver Operating Characteristic, Area={0:0.2f}'.format(roc_auc))\n",
    "plt.legend(loc=\"lower right\")\n",
    "# plt.show();\n",
    "plt.savefig('figures/roc_monde_param_cov.png',dpi=1200)"
   ]
  },
  {
   "cell_type": "code",
   "execution_count": null,
   "metadata": {},
   "outputs": [],
   "source": [
    "precision, recall, _ = precision_recall_curve(true_label_test, test_score)\n",
    "average_precision = average_precision_score(true_label_test, test_score)\n",
    "\n",
    "# In matplotlib < 1.5, plt.fill_between does not have a 'step' argument\n",
    "step_kwargs = ({'step': 'post'}\n",
    "               if 'step' in signature(plt.fill_between).parameters\n",
    "               else {})\n",
    "plt.step(recall, precision, color='b', alpha=0.2,\n",
    "         where='post')\n",
    "# plt.fill_between(recall, precision, alpha=0.2, color='b', **step_kwargs)\n",
    "\n",
    "plt.xlabel('Recall')\n",
    "plt.ylabel('Precision')\n",
    "plt.ylim([0.0, 1.05])\n",
    "plt.xlim([0.0, 1.0])\n",
    "plt.title('Precision-Recall curve, Area={0:0.2f}'.format(\n",
    "          average_precision))\n",
    "# plt.show();\n",
    "plt.savefig('figures/pr_monde_param_cov.png',dpi=1200)"
   ]
  }
 ],
 "metadata": {
  "kernelspec": {
   "display_name": "Python 3",
   "language": "python",
   "name": "python3"
  },
  "language_info": {
   "codemirror_mode": {
    "name": "ipython",
    "version": 3
   },
   "file_extension": ".py",
   "mimetype": "text/x-python",
   "name": "python",
   "nbconvert_exporter": "python",
   "pygments_lexer": "ipython3",
   "version": "3.7.4"
  }
 },
 "nbformat": 4,
 "nbformat_minor": 4
}
