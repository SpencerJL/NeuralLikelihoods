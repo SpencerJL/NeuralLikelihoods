{
 "cells": [
  {
   "cell_type": "code",
   "execution_count": 18,
   "metadata": {},
   "outputs": [
    {
     "name": "stdout",
     "output_type": "stream",
     "text": [
      "The autoreload extension is already loaded. To reload it, use:\n",
      "  %reload_ext autoreload\n"
     ]
    }
   ],
   "source": [
    "%load_ext autoreload\n",
    "%autoreload 2\n",
    "from experiment.experiment import Experiment\n",
    "from models.tensorflow.monde import Monde\n",
    "from conf import conf\n",
    "from models.tensorflow.conf import tf_conf\n",
    "from experiment.hyper_param_opt import GridSearch\n",
    "from models.tensorflow.tf_simple_train_eval import TfSimpleTrainEvalModelFactory\n",
    "from skopt.space import Categorical\n",
    "from models.tensorflow.utils import get_eval_inputs,get_inputs\n",
    "from data.data_utils import DataLoader\n",
    "import tensorflow as tf\n",
    "import numpy as np\n",
    "import seaborn as sns\n",
    "import matplotlib.pyplot as plt\n",
    "%matplotlib inline\n",
    "from bokeh.palettes import Category10_5 as colors\n",
    "from bokeh.plotting import figure\n",
    "from bokeh.io import show, output_notebook\n",
    "import pandas as pd\n",
    "from functools import reduce\n",
    "from copy import copy\n",
    "from sklearn.metrics import roc_curve,auc,precision_recall_curve,average_precision_score\n",
    "from sklearn.ensemble import RandomForestClassifier\n",
    "import os\n",
    "# from sklearn.utils.fixes import signature\n",
    "from scipy import stats\n",
    "from itertools import combinations\n",
    "import multiprocessing\n",
    "\n",
    "from sklearn.model_selection import StratifiedKFold\n",
    "from sklearn.model_selection import GridSearchCV\n",
    "from utils import InMemoryCollector"
   ]
  },
  {
   "cell_type": "code",
   "execution_count": 14,
   "metadata": {},
   "outputs": [],
   "source": [
    "conf.num_workers = 1\n",
    "conf.visible_device_list = []"
   ]
  },
  {
   "cell_type": "markdown",
   "metadata": {},
   "source": [
    "# MONDE const cov"
   ]
  },
  {
   "cell_type": "code",
   "execution_count": 15,
   "metadata": {},
   "outputs": [],
   "source": [
    "exp_monde_const_cov = Experiment('classification/fx_3')\n",
    "exp_monde_const_cov.load(model_name=\"Monde_const_cov\")"
   ]
  },
  {
   "cell_type": "code",
   "execution_count": 16,
   "metadata": {},
   "outputs": [],
   "source": [
    "y_95_percentile = np.percentile(exp_monde_const_cov.data_loader.train_y, 95,axis=0)\n",
    "true_label_test = np.any(exp_monde_const_cov.data_loader.test_y > y_95_percentile, axis=1)"
   ]
  },
  {
   "cell_type": "code",
   "execution_count": null,
   "metadata": {},
   "outputs": [],
   "source": [
    "result_test_monde_const_cov = exp_monde_const_cov.predict_best_model({'x':exp_monde_const_cov.data_loader.test_x, 'y':(np.ones(exp_monde_const_cov.data_loader.test_y.shape)*y_95_percentile).astype(np.float32)}, InMemoryCollector())"
   ]
  },
  {
   "cell_type": "code",
   "execution_count": 20,
   "metadata": {},
   "outputs": [],
   "source": [
    "std_norm_mv_monde_const_cov = stats.multivariate_normal(mean=[0]*exp_monde_const_cov.data_loader.test_y.shape[1], cov=result_test_monde_const_cov['cor'][0])\n",
    "quantiles_monde_const_cov = [stats.norm.ppf(cdf) for cdf in result_test_monde_const_cov['cdfs']]\n",
    "test_score_monde_const_cov = 1-std_norm_mv_monde_const_cov.cdf(np.concatenate(quantiles_monde_const_cov, axis=1))"
   ]
  },
  {
   "cell_type": "code",
   "execution_count": 21,
   "metadata": {},
   "outputs": [],
   "source": [
    "fpr_monde_const_cov, tpr_monde_const_cov, thresholds_monde_const_cov = roc_curve(true_label_test, test_score_monde_const_cov)\n",
    "roc_auc_monde_const_cov = auc(fpr_monde_const_cov, tpr_monde_const_cov)"
   ]
  },
  {
   "cell_type": "code",
   "execution_count": 22,
   "metadata": {},
   "outputs": [],
   "source": [
    "precision_monde_const_cov, recall_monde_const_cov, _ = precision_recall_curve(true_label_test, test_score_monde_const_cov)\n",
    "average_precision_monde_const_cov = average_precision_score(true_label_test, test_score_monde_const_cov)"
   ]
  },
  {
   "cell_type": "markdown",
   "metadata": {},
   "source": [
    "# MONDE param cov"
   ]
  },
  {
   "cell_type": "code",
   "execution_count": 23,
   "metadata": {},
   "outputs": [],
   "source": [
    "exp_monde_param_cov = Experiment('classification/fx_3')\n",
    "exp_monde_param_cov.load(model_name=\"Monde_param_cov\")"
   ]
  },
  {
   "cell_type": "code",
   "execution_count": 1,
   "metadata": {},
   "outputs": [
    {
     "name": "stdout",
     "output_type": "stream",
     "text": [
      "The history saving thread hit an unexpected error (OperationalError('attempt to write a readonly database')).History will not be written to the database.\n"
     ]
    }
   ],
   "source": [
    "result_test_monde_param_cov = exp_monde_param_cov.predict_best_model({'x':exp_monde_param_cov.data_loader.test_x, 'y':(np.ones(exp_monde_param_cov.data_loader.test_y.shape)*y_95_percentile).astype(np.float32)}, InMemoryCollector())"
   ]
  },
  {
   "cell_type": "code",
   "execution_count": 25,
   "metadata": {},
   "outputs": [],
   "source": [
    "quantiles_monde_param_cov = [stats.norm.ppf(cdf) for cdf in result_test_monde_param_cov['cdfs']]\n",
    "def compute_test_score(row):\n",
    "    return 1-stats.multivariate_normal.cdf(row[0], mean=[0]*exp_monde_param_cov.data_loader.test_y.shape[1], cov=result_test_monde_param_cov['cor'][row[1]])\n",
    "pool = multiprocessing.Pool()\n",
    "test_score_monde_param_cov = np.array(pool.map(compute_test_score, zip(np.concatenate(quantiles_monde_param_cov,axis=1),range(len(quantiles_monde_param_cov[0])))))"
   ]
  },
  {
   "cell_type": "code",
   "execution_count": 26,
   "metadata": {},
   "outputs": [],
   "source": [
    "fpr_monde_param_cov, tpr_monde_param_cov, thresholds_monde_param_cov = roc_curve(true_label_test, test_score_monde_param_cov)\n",
    "roc_auc_monde_param_cov = auc(fpr_monde_param_cov, tpr_monde_param_cov)"
   ]
  },
  {
   "cell_type": "code",
   "execution_count": 27,
   "metadata": {},
   "outputs": [],
   "source": [
    "precision_monde_param_cov, recall_monde_param_cov, _ = precision_recall_curve(true_label_test, test_score_monde_param_cov)\n",
    "average_precision_monde_param_cov = average_precision_score(true_label_test, test_score_monde_param_cov)"
   ]
  },
  {
   "cell_type": "markdown",
   "metadata": {},
   "source": [
    "# PUMONDE CL"
   ]
  },
  {
   "cell_type": "code",
   "execution_count": 28,
   "metadata": {},
   "outputs": [],
   "source": [
    "exp_pumonde_cl = Experiment('classification/fx_3')\n",
    "exp_pumonde_cl.load(model_name=\"Pumonde2\")"
   ]
  },
  {
   "cell_type": "code",
   "execution_count": 2,
   "metadata": {},
   "outputs": [],
   "source": [
    "result_test_pumonde_cl = exp_pumonde_cl.predict_best_model({'x':exp_pumonde_cl.data_loader.test_x, 'y':(np.ones(exp_pumonde_cl.data_loader.test_y.shape)*y_95_percentile).astype(np.float32)}, InMemoryCollector())"
   ]
  },
  {
   "cell_type": "code",
   "execution_count": 30,
   "metadata": {},
   "outputs": [],
   "source": [
    "cdf_pumonde_cl = result_test_pumonde_cl[\"cdf\"]\n",
    "score_pumonde_cl = 1-cdf_pumonde_cl\n",
    "fpr_pumonde_cl, tpr_pumonde_cl, thresholds_pumonde_cl = roc_curve(true_label_test, score_pumonde_cl)\n",
    "roc_auc_pumonde_cl = auc(fpr_pumonde_cl, tpr_pumonde_cl)"
   ]
  },
  {
   "cell_type": "code",
   "execution_count": 31,
   "metadata": {},
   "outputs": [],
   "source": [
    "precision_pumonde_cl, recall_pumonde_cl, _ = precision_recall_curve(true_label_test, score_pumonde_cl)\n",
    "average_precision_pumonde_cl = average_precision_score(true_label_test, score_pumonde_cl)"
   ]
  },
  {
   "cell_type": "markdown",
   "metadata": {},
   "source": [
    "# NN Classifier"
   ]
  },
  {
   "cell_type": "code",
   "execution_count": 32,
   "metadata": {},
   "outputs": [],
   "source": [
    "exp_nn = Experiment('classification/fx_3')\n",
    "exp_nn.load(model_name=\"NNClassifier\")"
   ]
  },
  {
   "cell_type": "code",
   "execution_count": 3,
   "metadata": {},
   "outputs": [],
   "source": [
    "result_test_nn = exp_nn.predict_best_model(\"test_dict\", InMemoryCollector());"
   ]
  },
  {
   "cell_type": "code",
   "execution_count": 34,
   "metadata": {},
   "outputs": [],
   "source": [
    "fpr_nn, tpr_nn, thresholds_nn = roc_curve(true_label_test, result_test_nn[\"probs\"])\n",
    "roc_auc_nn = auc(fpr_nn, tpr_nn)"
   ]
  },
  {
   "cell_type": "code",
   "execution_count": 35,
   "metadata": {},
   "outputs": [],
   "source": [
    "precision_nn, recall_nn, _ = precision_recall_curve(true_label_test, result_test_nn[\"probs\"])\n",
    "average_precision_nn = average_precision_score(true_label_test, result_test_nn[\"probs\"])"
   ]
  },
  {
   "cell_type": "markdown",
   "metadata": {},
   "source": [
    "# Random Forest"
   ]
  },
  {
   "cell_type": "code",
   "execution_count": 36,
   "metadata": {},
   "outputs": [],
   "source": [
    "# rfc = RandomForestClassifier(n_estimators=100, max_depth=10, random_state=0)\n",
    "# # rfc.fit(exp_nn.data_loader.train_x, exp_nn.data_loader.additional_train_data['labels'])\n",
    "\n",
    "# kfold = StratifiedKFold(n_splits=10, shuffle=True, random_state=7)\n",
    "# param_grid = {'n_estimators':[10,50,100], 'max_depth':[5,10,20]}\n",
    "# grid_search = GridSearchCV(rfc, param_grid, scoring=\"roc_auc\", n_jobs=2, cv=kfold)\n",
    "# grid_result = grid_search.fit(np.r_[exp_nn.data_loader.train_x,exp_nn.data_loader.validation_x],  np.r_[exp_nn.data_loader.additional_train_data['labels'],\\\n",
    "#                                                                                                       exp_nn.data_loader.additional_eval_data['labels']])"
   ]
  },
  {
   "cell_type": "code",
   "execution_count": 10,
   "metadata": {},
   "outputs": [
    {
     "data": {
      "text/plain": [
       "{'max_depth': 20, 'n_estimators': 100}"
      ]
     },
     "execution_count": 10,
     "metadata": {},
     "output_type": "execute_result"
    }
   ],
   "source": [
    "# grid_search.cv_results_['params'][grid_search.best_index_]"
   ]
  },
  {
   "cell_type": "code",
   "execution_count": 23,
   "metadata": {},
   "outputs": [],
   "source": [
    "# tree_predictions_test = grid_search.predict_proba(exp_nn.data_loader.test_x)\n",
    "# # tree_predictions_test = rfc.predict_proba(exp_nn.data_loader.test_x)\n",
    "# tree_predictions_test = tree_predictions_test[:,1]"
   ]
  },
  {
   "cell_type": "code",
   "execution_count": 24,
   "metadata": {},
   "outputs": [],
   "source": [
    "# fpr_rfc, tpr_rfc, thresholds_rfc = roc_curve(exp_nn.data_loader.additional_test_data['labels'], tree_predictions_test)\n",
    "# roc_auc_rfc = auc(fpr_rfc, tpr_rfc)"
   ]
  },
  {
   "cell_type": "code",
   "execution_count": 25,
   "metadata": {},
   "outputs": [],
   "source": [
    "# precision_rfc, recall_rfc, _ = precision_recall_curve(true_label_test, tree_predictions_test)\n",
    "# average_precision_rfc = average_precision_score(true_label_test, tree_predictions_test)"
   ]
  },
  {
   "cell_type": "code",
   "execution_count": 26,
   "metadata": {},
   "outputs": [],
   "source": [
    "# np.save('data/fpr_rfc', fpr_rfc)\n",
    "# np.save('data/tpr_rfc', tpr_rfc)\n",
    "# np.save('data/thresholds_rfc', thresholds_rfc)\n",
    "# np.save('data/roc_auc_rfc', roc_auc_rfc)\n",
    "# np.save('data/precision_rfc', precision_rfc)\n",
    "# np.save('data/recall_rfc', recall_rfc)\n",
    "# np.save('data/average_precision_rfc', average_precision_rfc)"
   ]
  },
  {
   "cell_type": "code",
   "execution_count": 37,
   "metadata": {},
   "outputs": [],
   "source": [
    "fpr_rfc = np.load('data/fpr_rfc.npy')\n",
    "tpr_rfc = np.load('data/tpr_rfc.npy')\n",
    "thresholds_rfc = np.load('data/thresholds_rfc.npy')\n",
    "roc_auc_rfc = np.load('data/roc_auc_rfc.npy').item()\n",
    "precision_rfc = np.load('data/precision_rfc.npy')\n",
    "recall_rfc = np.load('data/recall_rfc.npy')\n",
    "average_precision_rfc = np.load('data/average_precision_rfc.npy').item()"
   ]
  },
  {
   "cell_type": "markdown",
   "metadata": {},
   "source": [
    "# XGBoost"
   ]
  },
  {
   "cell_type": "code",
   "execution_count": 4,
   "metadata": {},
   "outputs": [],
   "source": [
    "# from pandas import read_csv\n",
    "# from xgboost import XGBClassifier\n",
    "# import matplotlib\n",
    "# matplotlib.use('Agg')\n",
    "# from matplotlib import pyplot\n",
    "# model_xgb = XGBClassifier()\n",
    "# subsample = [0.1, 0.2, 0.3, 0.4, 0.5, 0.6, 0.7, 0.8, 1.0]\n",
    "# param_grid = dict(subsample=subsample)\n",
    "# kfold = StratifiedKFold(n_splits=10, shuffle=True, random_state=7)\n",
    "# grid_search = GridSearchCV(model_xgb, param_grid, scoring=\"neg_log_loss\", n_jobs=2, cv=kfold)\n",
    "# grid_result = grid_search.fit(np.r_[exp_nn.data_loader.train_x,exp_nn.data_loader.validation_x],  np.r_[exp_nn.data_loader.additional_train_data['labels'],\\\n",
    "#                                                                                                         exp_nn.data_loader.additional_eval_data['labels']])\n",
    "# # summarize results\n",
    "# print(\"Best: %f using %s\" % (grid_result.best_score_, grid_result.best_params_))\n",
    "# means = grid_result.cv_results_['mean_test_score']\n",
    "# stds = grid_result.cv_results_['std_test_score']\n",
    "# params = grid_result.cv_results_['params']\n",
    "# for mean, stdev, param in zip(means, stds, params):\n",
    "#     print(\"%f (%f) with: %r\" % (mean, stdev, param))"
   ]
  },
  {
   "cell_type": "code",
   "execution_count": 29,
   "metadata": {},
   "outputs": [],
   "source": [
    "# xgb_predictions_test = grid_search.predict_proba(exp_nn.data_loader.test_x)\n",
    "# xgb_predictions_test = xgb_predictions_test[:,1]\n",
    "# fpr_xgb, tpr_xgb, thresholds_xgb = roc_curve(exp_nn.data_loader.additional_test_data['labels'], xgb_predictions_test)\n",
    "# roc_auc_xgb = auc(fpr_xgb, tpr_xgb)"
   ]
  },
  {
   "cell_type": "code",
   "execution_count": 30,
   "metadata": {},
   "outputs": [],
   "source": [
    "# precision_xgb, recall_xgb, _ = precision_recall_curve(true_label_test, xgb_predictions_test)\n",
    "# average_precision_xgb = average_precision_score(true_label_test, xgb_predictions_test)"
   ]
  },
  {
   "cell_type": "code",
   "execution_count": 31,
   "metadata": {},
   "outputs": [],
   "source": [
    "# np.save('data/fpr_xgb', fpr_xgb)\n",
    "# np.save('data/tpr_xgb', tpr_xgb)\n",
    "# np.save('data/thresholds_xgb', thresholds_xgb)\n",
    "# np.save('data/roc_auc_xgb', roc_auc_xgb)\n",
    "# np.save('data/precision_xgb', precision_xgb)\n",
    "# np.save('data/recall_xgb', recall_xgb)\n",
    "# np.save('data/average_precision_xgb', average_precision_xgb)"
   ]
  },
  {
   "cell_type": "code",
   "execution_count": 38,
   "metadata": {},
   "outputs": [],
   "source": [
    "fpr_xgb = np.load('data/fpr_xgb.npy')\n",
    "tpr_xgb = np.load('data/tpr_xgb.npy')\n",
    "thresholds_xgb = np.load('data/thresholds_xgb.npy')\n",
    "roc_auc_xgb = np.load('data/roc_auc_xgb.npy').item()\n",
    "precision_xgb = np.load('data/precision_xgb.npy')\n",
    "recall_xgb = np.load('data/recall_xgb.npy')\n",
    "average_precision_xgb = np.load('data/average_precision_xgb.npy').item()"
   ]
  },
  {
   "cell_type": "markdown",
   "metadata": {},
   "source": [
    "# ROC"
   ]
  },
  {
   "cell_type": "code",
   "execution_count": 42,
   "metadata": {},
   "outputs": [
    {
     "data": {
      "text/plain": [
       "<Figure size 432x288 with 0 Axes>"
      ]
     },
     "execution_count": 42,
     "metadata": {},
     "output_type": "execute_result"
    },
    {
     "data": {
      "text/plain": [
       "[<matplotlib.lines.Line2D at 0x7feeebef0150>]"
      ]
     },
     "execution_count": 42,
     "metadata": {},
     "output_type": "execute_result"
    },
    {
     "data": {
      "text/plain": [
       "[<matplotlib.lines.Line2D at 0x7feeebee5350>]"
      ]
     },
     "execution_count": 42,
     "metadata": {},
     "output_type": "execute_result"
    },
    {
     "data": {
      "text/plain": [
       "[<matplotlib.lines.Line2D at 0x7feeebef0f10>]"
      ]
     },
     "execution_count": 42,
     "metadata": {},
     "output_type": "execute_result"
    },
    {
     "data": {
      "text/plain": [
       "[<matplotlib.lines.Line2D at 0x7feeec000350>]"
      ]
     },
     "execution_count": 42,
     "metadata": {},
     "output_type": "execute_result"
    },
    {
     "data": {
      "text/plain": [
       "[<matplotlib.lines.Line2D at 0x7feeebf046d0>]"
      ]
     },
     "execution_count": 42,
     "metadata": {},
     "output_type": "execute_result"
    },
    {
     "data": {
      "text/plain": [
       "[<matplotlib.lines.Line2D at 0x7feeebf04dd0>]"
      ]
     },
     "execution_count": 42,
     "metadata": {},
     "output_type": "execute_result"
    },
    {
     "data": {
      "text/plain": [
       "[<matplotlib.lines.Line2D at 0x7feeebf04250>]"
      ]
     },
     "execution_count": 42,
     "metadata": {},
     "output_type": "execute_result"
    },
    {
     "data": {
      "text/plain": [
       "(0.0, 1.0)"
      ]
     },
     "execution_count": 42,
     "metadata": {},
     "output_type": "execute_result"
    },
    {
     "data": {
      "text/plain": [
       "(0.0, 1.05)"
      ]
     },
     "execution_count": 42,
     "metadata": {},
     "output_type": "execute_result"
    },
    {
     "data": {
      "text/plain": [
       "Text(0.5, 0, 'False Positive Rate')"
      ]
     },
     "execution_count": 42,
     "metadata": {},
     "output_type": "execute_result"
    },
    {
     "data": {
      "text/plain": [
       "Text(0, 0.5, 'True Positive Rate')"
      ]
     },
     "execution_count": 42,
     "metadata": {},
     "output_type": "execute_result"
    },
    {
     "data": {
      "text/plain": [
       "Text(0.5, 1.0, 'Receiver Operating Characteristic')"
      ]
     },
     "execution_count": 42,
     "metadata": {},
     "output_type": "execute_result"
    },
    {
     "data": {
      "text/plain": [
       "<matplotlib.legend.Legend at 0x7feeebef0750>"
      ]
     },
     "execution_count": 42,
     "metadata": {},
     "output_type": "execute_result"
    },
    {
     "data": {
      "image/png": "[encoded data removed]",
      "text/plain": [
       "<Figure size 432x288 with 1 Axes>"
      ]
     },
     "metadata": {
      "needs_background": "light"
     },
     "output_type": "display_data"
    }
   ],
   "source": [
    "plt.figure()\n",
    "lw = 2\n",
    "plt.plot(fpr_monde_const_cov, tpr_monde_const_cov, color='red', lw=lw, label='MONDE const cov, Area={0:0.2f}'.format(roc_auc_monde_const_cov), alpha=0.5)\n",
    "plt.plot(fpr_monde_param_cov, tpr_monde_param_cov, color='green', lw=lw, label='MONDE param cov, Area={0:0.2f}'.format(roc_auc_monde_param_cov), alpha=0.5)\n",
    "plt.plot(fpr_pumonde_cl, tpr_pumonde_cl, color='gray', lw=lw, label='PUMONDE CL, Area={0:0.2f}'.format(roc_auc_pumonde_cl), alpha=0.5)\n",
    "plt.plot(fpr_nn, tpr_nn, color='blue', lw=lw, label='NN Classifier, Area={0:0.2f}'.format(roc_auc_nn), alpha=0.5)\n",
    "plt.plot(fpr_rfc, tpr_rfc, color='black', lw=lw, label='Random Forest, Area={0:0.2f}'.format(roc_auc_rfc), alpha=0.5)\n",
    "plt.plot(fpr_xgb, tpr_xgb, color='violet', lw=lw, label='Xgb Classifier, Area={0:0.2f}'.format(roc_auc_xgb), alpha=0.5)\n",
    "plt.plot([0, 1], [0, 1], color='navy', lw=lw, linestyle='--')\n",
    "plt.xlim([0.0, 1.0])\n",
    "plt.ylim([0.0, 1.05])\n",
    "plt.xlabel('False Positive Rate')\n",
    "plt.ylabel('True Positive Rate')\n",
    "plt.title('Receiver Operating Characteristic')\n",
    "plt.legend(loc=\"lower right\")\n",
    "# plt.show();\n",
    "plt.savefig('figures/roc_all_models.png',dpi=1200)"
   ]
  },
  {
   "cell_type": "markdown",
   "metadata": {},
   "source": [
    "# Precision Recall"
   ]
  },
  {
   "cell_type": "code",
   "execution_count": 43,
   "metadata": {},
   "outputs": [
    {
     "data": {
      "text/plain": [
       "[<matplotlib.lines.Line2D at 0x7feeebe86810>]"
      ]
     },
     "execution_count": 43,
     "metadata": {},
     "output_type": "execute_result"
    },
    {
     "data": {
      "text/plain": [
       "[<matplotlib.lines.Line2D at 0x7feeebe86d50>]"
      ]
     },
     "execution_count": 43,
     "metadata": {},
     "output_type": "execute_result"
    },
    {
     "data": {
      "text/plain": [
       "[<matplotlib.lines.Line2D at 0x7feeebe86d90>]"
      ]
     },
     "execution_count": 43,
     "metadata": {},
     "output_type": "execute_result"
    },
    {
     "data": {
      "text/plain": [
       "[<matplotlib.lines.Line2D at 0x7feeebe92910>]"
      ]
     },
     "execution_count": 43,
     "metadata": {},
     "output_type": "execute_result"
    },
    {
     "data": {
      "text/plain": [
       "[<matplotlib.lines.Line2D at 0x7feeebe92890>]"
      ]
     },
     "execution_count": 43,
     "metadata": {},
     "output_type": "execute_result"
    },
    {
     "data": {
      "text/plain": [
       "[<matplotlib.lines.Line2D at 0x7feeebe263d0>]"
      ]
     },
     "execution_count": 43,
     "metadata": {},
     "output_type": "execute_result"
    },
    {
     "data": {
      "text/plain": [
       "Text(0.5, 0, 'Recall')"
      ]
     },
     "execution_count": 43,
     "metadata": {},
     "output_type": "execute_result"
    },
    {
     "data": {
      "text/plain": [
       "Text(0, 0.5, 'Precision')"
      ]
     },
     "execution_count": 43,
     "metadata": {},
     "output_type": "execute_result"
    },
    {
     "data": {
      "text/plain": [
       "(0.0, 1.05)"
      ]
     },
     "execution_count": 43,
     "metadata": {},
     "output_type": "execute_result"
    },
    {
     "data": {
      "text/plain": [
       "(0.0, 1.0)"
      ]
     },
     "execution_count": 43,
     "metadata": {},
     "output_type": "execute_result"
    },
    {
     "data": {
      "text/plain": [
       "Text(0.5, 1.0, 'Precision-Recall curve')"
      ]
     },
     "execution_count": 43,
     "metadata": {},
     "output_type": "execute_result"
    },
    {
     "data": {
      "text/plain": [
       "<matplotlib.legend.Legend at 0x7feeebe92f10>"
      ]
     },
     "execution_count": 43,
     "metadata": {},
     "output_type": "execute_result"
    },
    {
     "data": {
      "image/png": "[encoded data removed]",
      "text/plain": [
       "<Figure size 432x288 with 1 Axes>"
      ]
     },
     "metadata": {
      "needs_background": "light"
     },
     "output_type": "display_data"
    }
   ],
   "source": [
    "plt.step(recall_monde_const_cov, precision_monde_const_cov, where='post', color='red', lw=lw, label='MONDE const cov, Area={0:0.2f}'.format(average_precision_monde_const_cov), alpha=0.5)\n",
    "plt.step(recall_monde_param_cov, precision_monde_param_cov, where='post', color='green', lw=lw, label='MONDE param cov, Area={0:0.2f}'.format(average_precision_monde_param_cov), alpha=0.5)\n",
    "plt.step(recall_pumonde_cl, precision_pumonde_cl, where='post', color='gray', lw=lw, label='PUMONDE CL, Area={0:0.2f}'.format(average_precision_pumonde_cl), alpha=0.5)\n",
    "plt.step(recall_nn, precision_nn, where='post', color='blue', lw=lw, label='NN Classifier, Area={0:0.2f}'.format(average_precision_nn), alpha=0.5)\n",
    "plt.step(recall_rfc, precision_rfc, where='post', color='black', lw=lw, label='Random Forest, Area={0:0.2f}'.format(average_precision_rfc), alpha=0.5)\n",
    "plt.step(recall_xgb, precision_xgb, where='post', color='violet', lw=lw, label='Xgb Classifier, Area={0:0.2f}'.format(average_precision_xgb), alpha=0.5)\n",
    "\n",
    "plt.xlabel('Recall')\n",
    "plt.ylabel('Precision')\n",
    "plt.ylim([0.0, 1.05])\n",
    "plt.xlim([0.0, 1.0])\n",
    "plt.title('Precision-Recall curve')\n",
    "plt.legend(loc=\"lower left\")\n",
    "# plt.show();\n",
    "plt.savefig('figures/pr_all_models.png',dpi=1200)"
   ]
  }
 ],
 "metadata": {
  "kernelspec": {
   "display_name": "Python 3",
   "language": "python",
   "name": "python3"
  },
  "language_info": {
   "codemirror_mode": {
    "name": "ipython",
    "version": 3
   },
   "file_extension": ".py",
   "mimetype": "text/x-python",
   "name": "python",
   "nbconvert_exporter": "python",
   "pygments_lexer": "ipython3",
   "version": "3.7.4"
  }
 },
 "nbformat": 4,
 "nbformat_minor": 4
}
